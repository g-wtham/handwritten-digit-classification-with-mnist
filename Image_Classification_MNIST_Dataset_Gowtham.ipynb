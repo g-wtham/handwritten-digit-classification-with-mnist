{
  "cells": [
    {
      "cell_type": "markdown",
      "metadata": {
        "id": "5kWwjU5PBAb5"
      },
      "source": [
        "***Note*** :  Run all cells at once to execute the code properly (Ctrl + F9), I used multiple code blocks as I'm learning; each block focuses on a specific task or concept."
      ]
    },
    {
      "cell_type": "code",
      "execution_count": null,
      "metadata": {
        "id": "GZqmUWudtfRn"
      },
      "outputs": [],
      "source": [
        "import tensorflow as tf\n",
        "from tensorflow import keras\n",
        "import matplotlib.pyplot as plt"
      ]
    },
    {
      "cell_type": "code",
      "execution_count": null,
      "metadata": {
        "id": "1cJ87MV-0gHQ"
      },
      "outputs": [],
      "source": [
        "(X_train, y_train), (X_test, y_test) = keras.datasets.mnist.load_data()\n",
        "#handwritten images, the actual integers"
      ]
    },
    {
      "cell_type": "code",
      "execution_count": null,
      "metadata": {
        "colab": {
          "base_uri": "https://localhost:8080/",
          "height": 454
        },
        "id": "AuQxadMd0_sz",
        "outputId": "7b31dd0a-54b1-44c7-bd09-74be96abfc59"
      },
      "outputs": [
        {
          "output_type": "execute_result",
          "data": {
            "text/plain": [
              "<matplotlib.image.AxesImage at 0x7f9614bbdae0>"
            ]
          },
          "metadata": {},
          "execution_count": 78
        },
        {
          "output_type": "display_data",
          "data": {
            "text/plain": [
              "<Figure size 480x480 with 1 Axes>"
            ],
            "image/png": "[encoded data removed]"
          },
          "metadata": {}
        }
      ],
      "source": [
        "plt.matshow(X_train[0])"
      ]
    },
    {
      "cell_type": "code",
      "execution_count": null,
      "metadata": {
        "colab": {
          "base_uri": "https://localhost:8080/"
        },
        "id": "I227OiXw4DJ7",
        "outputId": "babd7739-641d-4202-f3b7-475579a34ac7"
      },
      "outputs": [
        {
          "output_type": "execute_result",
          "data": {
            "text/plain": [
              "5"
            ]
          },
          "metadata": {},
          "execution_count": 79
        }
      ],
      "source": [
        "y_train[0]"
      ]
    },
    {
      "cell_type": "code",
      "execution_count": null,
      "metadata": {
        "id": "3bggiBHrg8fe"
      },
      "outputs": [],
      "source": [
        "X_train = X_train/255\n",
        "X_test = X_test/255"
      ]
    },
    {
      "cell_type": "code",
      "execution_count": null,
      "metadata": {
        "colab": {
          "base_uri": "https://localhost:8080/"
        },
        "id": "IdhL9eJ7Dnui",
        "outputId": "6cb70530-4e2a-4147-c9ac-8f61ac86fbfa"
      },
      "outputs": [
        {
          "output_type": "stream",
          "name": "stdout",
          "text": [
            "No.of.training image data in X_train image & shape:  (60000, 28, 28)\n",
            "No.of.test image data in X_test in image & shape:  (10000, 28, 28)\n",
            "\n",
            "Total actual 'training' integer equivalents to those images:  (60000,)\n",
            "Total actual 'test' integer equivalents to those images:  (10000,)\n"
          ]
        }
      ],
      "source": [
        "print(\"No.of.training image data in X_train image & shape: \", X_train.shape)\n",
        "print(\"No.of.test image data in X_test in image & shape: \", X_test.shape)\n",
        "\n",
        "print(\"\\nTotal actual 'training' integer equivalents to those images: \", y_train.shape)\n",
        "print(\"Total actual 'test' integer equivalents to those images: \", y_test.shape)"
      ]
    },
    {
      "cell_type": "markdown",
      "metadata": {
        "id": "6oNYyqbOFVgf"
      },
      "source": [
        "As each image is 28 x 28 pixels, and each pixel has, **pixel intensity values(0-255)**, which will result in 2D array (2*2 matrix - 28 rows and 28 columns) of these values, but should be converted to 1D, to assign these pixel intensity values to NEURONS, thereby 784 neurons corresponding to the 784 values, as a single array"
      ]
    },
    {
      "cell_type": "code",
      "execution_count": null,
      "metadata": {
        "colab": {
          "base_uri": "https://localhost:8080/"
        },
        "id": "0ksUBg5qF6wI",
        "outputId": "05f73252-db36-49c8-d39f-74221e7cacbb"
      },
      "outputs": [
        {
          "output_type": "execute_result",
          "data": {
            "text/plain": [
              "(60000, 784)"
            ]
          },
          "metadata": {},
          "execution_count": 82
        }
      ],
      "source": [
        "X_train_flattened = X_train.reshape(len(X_train), 28*28)\n",
        "X_test_flattened = X_test.reshape(len(X_test), 28*28)\n",
        "# The 2D X_train & test is reshaped into 1D X_train & test\n",
        "\n",
        "X_train_flattened.shape"
      ]
    },
    {
      "cell_type": "code",
      "execution_count": null,
      "metadata": {
        "colab": {
          "base_uri": "https://localhost:8080/"
        },
        "id": "mTcZT1gEJxa0",
        "outputId": "fd5ede7c-14ea-4e7f-d8ae-b06327de9a91"
      },
      "outputs": [
        {
          "output_type": "stream",
          "name": "stdout",
          "text": [
            "Epoch 1/5\n",
            "1875/1875 [==============================] - 4s 2ms/step - loss: 0.4709 - accuracy: 0.8770\n",
            "Epoch 2/5\n",
            "1875/1875 [==============================] - 3s 2ms/step - loss: 0.3036 - accuracy: 0.9157\n",
            "Epoch 3/5\n",
            "1875/1875 [==============================] - 3s 2ms/step - loss: 0.2832 - accuracy: 0.9210\n",
            "Epoch 4/5\n",
            "1875/1875 [==============================] - 5s 2ms/step - loss: 0.2731 - accuracy: 0.9240\n",
            "Epoch 5/5\n",
            "1875/1875 [==============================] - 3s 2ms/step - loss: 0.2665 - accuracy: 0.9265\n"
          ]
        },
        {
          "output_type": "execute_result",
          "data": {
            "text/plain": [
              "<keras.src.callbacks.History at 0x7f95e7d246d0>"
            ]
          },
          "metadata": {},
          "execution_count": 67
        }
      ],
      "source": [
        "model = keras.Sequential([\n",
        "    keras.layers.Dense(10, input_shape=(784,), activation='sigmoid')\n",
        "])\n",
        "\n",
        "model.compile(\n",
        "    optimizer='adam',\n",
        "    loss='sparse_categorical_crossentropy',\n",
        "    metrics=['accuracy']\n",
        ")\n",
        "\n",
        "model.fit(X_train_flattened, y_train, epochs=5)"
      ]
    },
    {
      "cell_type": "code",
      "execution_count": null,
      "metadata": {
        "colab": {
          "background_save": true
        },
        "id": "UmdjpqlqYabg",
        "outputId": "333702a2-8c80-4246-e82a-52db8ccddec0"
      },
      "outputs": [
        {
          "name": "stdout",
          "output_type": "stream",
          "text": [
            "313/313 [==============================] - 1s 2ms/step - loss: 0.2674 - accuracy: 0.9254\n"
          ]
        },
        {
          "data": {
            "text/plain": [
              "[0.2674451470375061, 0.9254000186920166]"
            ]
          },
          "execution_count": 48,
          "metadata": {},
          "output_type": "execute_result"
        }
      ],
      "source": [
        "model.evaluate(X_test_flattened, y_test)"
      ]
    },
    {
      "cell_type": "markdown",
      "metadata": {
        "id": "ah_sTcG-Yz6W"
      },
      "source": [
        "As we can see, there is this thing I noticed, that is the loss is higher, when examining the code, we could do one thing to reduce the loss by a significant margin, i.e. dividing the training data (pixel intensity values) by 255, which eventually flattens the potential thing, which gets dominated during training.\n",
        "\n",
        "And, Sigmoid function works best between 0 and 1, thus / by 255 makes our values fall into the range!"
      ]
    },
    {
      "cell_type": "code",
      "execution_count": null,
      "metadata": {
        "colab": {
          "background_save": true
        },
        "id": "juCMTivckhO8",
        "outputId": "116628dd-66d5-4b36-8e88-f316b370a6a2"
      },
      "outputs": [
        {
          "data": {
            "text/plain": [
              "<matplotlib.image.AxesImage at 0x7f95e7c103a0>"
            ]
          },
          "execution_count": 49,
          "metadata": {},
          "output_type": "execute_result"
        },
        {
          "data": {
            "image/png": "[encoded data removed]",
            "text/plain": [
              "<Figure size 480x480 with 1 Axes>"
            ]
          },
          "metadata": {},
          "output_type": "display_data"
        }
      ],
      "source": [
        "plt.matshow(X_test[1])"
      ]
    },
    {
      "cell_type": "code",
      "execution_count": null,
      "metadata": {
        "colab": {
          "background_save": true
        },
        "id": "sCosh9y8jk39",
        "outputId": "1b4f1984-2377-4ec6-daa9-960e372ecec7"
      },
      "outputs": [
        {
          "name": "stdout",
          "output_type": "stream",
          "text": [
            "313/313 [==============================] - 0s 1ms/step\n"
          ]
        },
        {
          "data": {
            "text/plain": [
              "array([3.8596315e-04, 9.9276114e-01, 6.5816873e-01, 2.8103185e-01,\n",
              "       2.8056450e-02, 8.8876821e-02, 1.6670316e-01, 1.3863696e-01,\n",
              "       3.8996154e-01, 5.0152086e-02], dtype=float32)"
            ]
          },
          "execution_count": 50,
          "metadata": {},
          "output_type": "execute_result"
        }
      ],
      "source": [
        "y_prediction_by_x = model.predict(X_test_flattened)\n",
        "y_prediction_by_x[2]"
      ]
    },
    {
      "cell_type": "code",
      "execution_count": null,
      "metadata": {
        "colab": {
          "background_save": true
        },
        "id": "8iC3byHqkVX2",
        "outputId": "e5739ef0-a310-49f5-e375-45ec1a92eccd"
      },
      "outputs": [
        {
          "data": {
            "text/plain": [
              "1"
            ]
          },
          "execution_count": 51,
          "metadata": {},
          "output_type": "execute_result"
        }
      ],
      "source": [
        "import numpy as np\n",
        "np.argmax(y_prediction_by_x[2])"
      ]
    },
    {
      "cell_type": "code",
      "execution_count": null,
      "metadata": {
        "colab": {
          "background_save": true
        },
        "id": "qEmhzsCRlVCr"
      },
      "outputs": [],
      "source": [
        "y_predicted_labels = [np.argmax(i) for i in y_prediction_by_x]"
      ]
    },
    {
      "cell_type": "code",
      "execution_count": null,
      "metadata": {
        "colab": {
          "background_save": true
        },
        "id": "nXWyQ8p3mpjR",
        "outputId": "d72cdbfc-d641-4d05-be34-4eb9c645f6ee"
      },
      "outputs": [
        {
          "data": {
            "text/plain": [
              "<tf.Tensor: shape=(10, 10), dtype=int32, numpy=\n",
              "array([[ 960,    0,    2,    2,    0,    5,    7,    2,    2,    0],\n",
              "       [   0, 1110,    3,    2,    0,    1,    4,    2,   13,    0],\n",
              "       [   6,    7,  927,   15,    7,    2,   13,   11,   42,    2],\n",
              "       [   3,    0,   20,  920,    0,   20,    2,   12,   28,    5],\n",
              "       [   2,    1,    3,    1,  919,    0,   11,    4,   11,   30],\n",
              "       [  11,    3,    3,   33,   10,  757,   18,    8,   43,    6],\n",
              "       [  10,    3,    7,    1,    7,    8,  917,    2,    3,    0],\n",
              "       [   1,    5,   23,    7,    9,    0,    0,  951,    4,   28],\n",
              "       [   5,    6,    6,   18,    9,   18,   10,   10,  887,    5],\n",
              "       [  10,    7,    1,   10,   33,    5,    0,   24,   13,  906]],\n",
              "      dtype=int32)>"
            ]
          },
          "execution_count": 53,
          "metadata": {},
          "output_type": "execute_result"
        }
      ],
      "source": [
        "confusion_matrix = tf.math.confusion_matrix(labels=y_test, predictions=y_predicted_labels)\n",
        "confusion_matrix"
      ]
    },
    {
      "cell_type": "code",
      "execution_count": null,
      "metadata": {
        "colab": {
          "base_uri": "https://localhost:8080/",
          "height": 889
        },
        "id": "5tc89ATZm5Hu",
        "outputId": "773f23cb-8dd3-4bf4-9013-0c6c10c24469"
      },
      "outputs": [
        {
          "data": {
            "text/plain": [
              "Text(95.72222222222221, 0.5, 'True values')"
            ]
          },
          "execution_count": 74,
          "metadata": {},
          "output_type": "execute_result"
        },
        {
          "data": {
            "image/png": "[encoded data removed]",
            "text/plain": [
              "<Figure size 1000x1000 with 2 Axes>"
            ]
          },
          "metadata": {},
          "output_type": "display_data"
        }
      ],
      "source": [
        "import seaborn as sns\n",
        "plt.figure(figsize = (10,10))\n",
        "sns.heatmap(confusion_matrix, annot=True, fmt='d')\n",
        "plt.title(\"Confusion matrix for this simple neural network\")\n",
        "plt.xlabel('Predicted')\n",
        "plt.ylabel('True values')"
      ]
    },
    {
      "cell_type": "markdown",
      "metadata": {
        "id": "O3tkG0t48qA6"
      },
      "source": [
        "The confusion matrix tells us how the model performed. Here, 43 times our single layered model predicted '8' but the actual value was '2'. To improve the accuracy, we can add more hidden layers, to make the model less prone to errors!"
      ]
    },
    {
      "cell_type": "code",
      "execution_count": null,
      "metadata": {
        "id": "LMor1GKin1Y1",
        "colab": {
          "base_uri": "https://localhost:8080/"
        },
        "outputId": "611cb726-abfa-478f-ae2a-a9b58bfc7019"
      },
      "outputs": [
        {
          "output_type": "stream",
          "name": "stdout",
          "text": [
            "Epoch 1/5\n",
            "1875/1875 [==============================] - 7s 3ms/step - loss: 0.2762 - accuracy: 0.9206\n",
            "Epoch 2/5\n",
            "1875/1875 [==============================] - 6s 3ms/step - loss: 0.1242 - accuracy: 0.9629\n",
            "Epoch 3/5\n",
            "1875/1875 [==============================] - 6s 3ms/step - loss: 0.0881 - accuracy: 0.9733\n",
            "Epoch 4/5\n",
            "1875/1875 [==============================] - 6s 3ms/step - loss: 0.0653 - accuracy: 0.9804\n",
            "Epoch 5/5\n",
            "1875/1875 [==============================] - 7s 4ms/step - loss: 0.0530 - accuracy: 0.9841\n"
          ]
        },
        {
          "output_type": "execute_result",
          "data": {
            "text/plain": [
              "<keras.src.callbacks.History at 0x7f9614c316c0>"
            ]
          },
          "metadata": {},
          "execution_count": 83
        }
      ],
      "source": [
        "model = keras.Sequential([\n",
        "    keras.layers.Dense(100, input_shape=(784,), activation='relu'),\n",
        "    keras.layers.Dense(10, activation='sigmoid')\n",
        "])\n",
        "\n",
        "model.compile(\n",
        "    optimizer='adam',\n",
        "    loss='sparse_categorical_crossentropy',\n",
        "    metrics=['accuracy']\n",
        ")\n",
        "\n",
        "model.fit(X_train_flattened, y_train, epochs=5)"
      ]
    },
    {
      "cell_type": "markdown",
      "metadata": {
        "id": "CitgVOg4-za2"
      },
      "source": [
        "So, in the above code, I added a dense layer again, this time with 100 neurons. Each 1 neuron is connected to the 784 input layer neurons. Thus, this is the HIDDEN LAYER here. Relu activation is used, to introduce non-linearity, as the MNIST images might have more than just linear shapes, this allows efficienct computing and learns the complex shapes found inside the MNIST Dataset images in training data.\n",
        "\n",
        "As the first hidden layer would learn how to connect with the input neurons, we add another layer with 10 neurons, which is ofcourse the output layer and uses sigmoid function to squash the values between 0 and 1.\n",
        "\n",
        "**This increased the accuracy from 0.92 to 0.98, comparing with the previous one, where there was only one layer, which is directly connected to the input layer, as 10 neurons would connect with that 784 neurons from the input layer and predict the possibility of the value falling between 0-10**"
      ]
    },
    {
      "cell_type": "code",
      "execution_count": null,
      "metadata": {
        "id": "Zn9aezckWHQI",
        "colab": {
          "base_uri": "https://localhost:8080/"
        },
        "outputId": "601bb352-4fdb-4664-a787-e994d8747f1a"
      },
      "outputs": [
        {
          "output_type": "stream",
          "name": "stdout",
          "text": [
            "313/313 [==============================] - 1s 2ms/step - loss: 0.0800 - accuracy: 0.9753\n"
          ]
        },
        {
          "output_type": "execute_result",
          "data": {
            "text/plain": [
              "[0.08003310859203339, 0.9753000140190125]"
            ]
          },
          "metadata": {},
          "execution_count": 84
        }
      ],
      "source": [
        "model.evaluate(X_test_flattened, y_test)"
      ]
    },
    {
      "cell_type": "markdown",
      "metadata": {
        "id": "guo4fn8_W-W3"
      },
      "source": [
        "With just 1 layer, the model performance improved!"
      ]
    },
    {
      "cell_type": "code",
      "execution_count": null,
      "metadata": {
        "id": "F9DUf_7DXfNH"
      },
      "outputs": [],
      "source": []
    },
    {
      "cell_type": "code",
      "execution_count": null,
      "metadata": {
        "id": "pPKcOopmXCkD"
      },
      "outputs": [],
      "source": [
        "def predict_value(x):\n",
        "  plt.matshow(X_test[x])\n",
        "  print(\"\\nThe predicted integer value: \", np.argmax(y_prediction_by_x[x]))\n",
        "  print(\"\\n\")"
      ]
    },
    {
      "cell_type": "code",
      "execution_count": null,
      "metadata": {
        "id": "f4GKl_A9X-Vt",
        "colab": {
          "base_uri": "https://localhost:8080/",
          "height": 506
        },
        "outputId": "7f993db8-5749-4307-9ec3-f97b4221fcb7"
      },
      "outputs": [
        {
          "output_type": "stream",
          "name": "stdout",
          "text": [
            "\n",
            "The predicted integer value:  0\n",
            "\n",
            "\n"
          ]
        },
        {
          "output_type": "display_data",
          "data": {
            "text/plain": [
              "<Figure size 480x480 with 1 Axes>"
            ],
            "image/png": "[encoded data removed]"
          },
          "metadata": {}
        }
      ],
      "source": [
        "predict_value(10)"
      ]
    }
  ],
  "metadata": {
    "colab": {
      "provenance": []
    },
    "kernelspec": {
      "display_name": "Python 3",
      "name": "python3"
    },
    "language_info": {
      "name": "python"
    }
  },
  "nbformat": 4,
  "nbformat_minor": 0
}